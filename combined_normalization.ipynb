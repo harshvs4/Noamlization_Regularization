{
  "cells": [
    {
      "cell_type": "markdown",
      "metadata": {
        "id": "view-in-github",
        "colab_type": "text"
      },
      "source": [
        "<a href=\"https://colab.research.google.com/github/harshvs4/Normalization_Regularization/blob/main/combined_normalization.ipynb\" target=\"_parent\"><img src=\"https://colab.research.google.com/assets/colab-badge.svg\" alt=\"Open In Colab\"/></a>"
      ]
    },
    {
      "cell_type": "code",
      "execution_count": 1,
      "metadata": {
        "colab": {
          "base_uri": "https://localhost:8080/"
        },
        "id": "u61aANENpfCd",
        "outputId": "d6097fa1-0c94-4bf7-8833-24caffd3b764"
      },
      "outputs": [
        {
          "output_type": "stream",
          "name": "stdout",
          "text": [
            "Mounted at /content/drive\n"
          ]
        }
      ],
      "source": [
        "from google.colab import drive\n",
        "drive.mount('/content/drive')"
      ]
    },
    {
      "cell_type": "code",
      "execution_count": 2,
      "metadata": {
        "colab": {
          "base_uri": "https://localhost:8080/"
        },
        "id": "8cJIyyThpiHm",
        "outputId": "8aa3fdfd-d719-4921-e21e-053764a1740a"
      },
      "outputs": [
        {
          "output_type": "stream",
          "name": "stdout",
          "text": [
            "/content/drive/MyDrive/harsh\n",
            "Looking in indexes: https://pypi.org/simple, https://us-python.pkg.dev/colab-wheels/public/simple/\n",
            "Requirement already satisfied: torchsummary in /usr/local/lib/python3.8/dist-packages (1.5.1)\n"
          ]
        }
      ],
      "source": [
        "from __future__ import print_function\n",
        "BASE_DIR='/content/drive/MyDrive/harsh/'\n",
        "%cd $BASE_DIR\n",
        "from utils import train, test, model,plot_metrics,helper,data_loader \n",
        "import torch\n",
        "\n",
        "# Let's visualize some of the images\n",
        "%matplotlib inline\n",
        "import matplotlib.pyplot as plt\n",
        "\n",
        "\n",
        "!pip install torchsummary"
      ]
    },
    {
      "cell_type": "code",
      "execution_count": 3,
      "metadata": {
        "id": "x3aVKvUSrCFX"
      },
      "outputs": [],
      "source": [
        "# Set Seed for reproducibility\n",
        "SEED = 1\n",
        "torch.manual_seed(SEED)\n",
        "\n",
        "cuda = torch.cuda.is_available()\n",
        "if cuda:\n",
        "    torch.cuda.manual_seed(SEED)\n",
        "\n",
        "device = torch.device(\"cuda\" if cuda else \"cpu\")"
      ]
    },
    {
      "cell_type": "code",
      "execution_count": 4,
      "metadata": {
        "id": "JnT1s5GQrNB_"
      },
      "outputs": [],
      "source": [
        "train_transforms, test_transforms = data_loader.data_augmentation()\n",
        "train,test = data_loader.download_mnist_data(train_transforms, test_transforms)"
      ]
    },
    {
      "cell_type": "code",
      "execution_count": 5,
      "metadata": {
        "id": "bz60FTw1rPQ2"
      },
      "outputs": [],
      "source": [
        "BATCH_SIZE_GPU = 64\n",
        "BATCH_SIZE_CPU = 64\n",
        "\n",
        "dataloader_args = dict(shuffle=True, batch_size=BATCH_SIZE_GPU, num_workers=2, pin_memory=True) if cuda else dict(shuffle=True, batch_size=BATCH_SIZE_CPU)\n",
        "train_loader, test_loader = data_loader.dataloader(train, test,dataloader_args)"
      ]
    },
    {
      "cell_type": "code",
      "execution_count": 6,
      "metadata": {
        "id": "QrvvhouKrSSn"
      },
      "outputs": [],
      "source": [
        "exp_metrics={}\n",
        "EPOCH=20\n",
        "dropout=0.03"
      ]
    },
    {
      "cell_type": "code",
      "execution_count": 6,
      "metadata": {
        "id": "fjm3yUO1xWLt"
      },
      "outputs": [],
      "source": []
    },
    {
      "cell_type": "markdown",
      "metadata": {
        "id": "RuNNI1Tarrqe"
      },
      "source": [
        "# LayerNorm with no regularization"
      ]
    },
    {
      "cell_type": "code",
      "execution_count": 7,
      "metadata": {
        "colab": {
          "base_uri": "https://localhost:8080/"
        },
        "id": "KJHCpfFUrUNH",
        "outputId": "f07f3477-2fa7-4e64-a145-d6b3610a12a5"
      },
      "outputs": [
        {
          "output_type": "stream",
          "name": "stdout",
          "text": [
            "Epoch 1:\n"
          ]
        },
        {
          "output_type": "stream",
          "name": "stderr",
          "text": [
            "Loss=0.12121044099330902 Batch_id=937 Accuracy=76.65: 100%|██████████| 938/938 [00:46<00:00, 20.16it/s]\n"
          ]
        },
        {
          "output_type": "stream",
          "name": "stdout",
          "text": [
            "\n",
            "Test set: Average loss: 0.1445, Accuracy: 9658/10000 (96.58%)\n",
            "\n",
            "Epoch 2:\n"
          ]
        },
        {
          "output_type": "stream",
          "name": "stderr",
          "text": [
            "Loss=0.04636501520872116 Batch_id=937 Accuracy=95.11: 100%|██████████| 938/938 [00:39<00:00, 23.50it/s]\n"
          ]
        },
        {
          "output_type": "stream",
          "name": "stdout",
          "text": [
            "\n",
            "Test set: Average loss: 0.0528, Accuracy: 9841/10000 (98.41%)\n",
            "\n",
            "Epoch 3:\n"
          ]
        },
        {
          "output_type": "stream",
          "name": "stderr",
          "text": [
            "Loss=0.029457343742251396 Batch_id=937 Accuracy=96.38: 100%|██████████| 938/938 [00:39<00:00, 23.50it/s]\n"
          ]
        },
        {
          "output_type": "stream",
          "name": "stdout",
          "text": [
            "\n",
            "Test set: Average loss: 0.0499, Accuracy: 9845/10000 (98.45%)\n",
            "\n",
            "Epoch 4:\n"
          ]
        },
        {
          "output_type": "stream",
          "name": "stderr",
          "text": [
            "Loss=0.016114093363285065 Batch_id=937 Accuracy=96.97: 100%|██████████| 938/938 [00:41<00:00, 22.75it/s]\n"
          ]
        },
        {
          "output_type": "stream",
          "name": "stdout",
          "text": [
            "\n",
            "Test set: Average loss: 0.0331, Accuracy: 9892/10000 (98.92%)\n",
            "\n",
            "Epoch 5:\n"
          ]
        },
        {
          "output_type": "stream",
          "name": "stderr",
          "text": [
            "Loss=0.08776716142892838 Batch_id=937 Accuracy=97.38: 100%|██████████| 938/938 [00:39<00:00, 23.63it/s]\n"
          ]
        },
        {
          "output_type": "stream",
          "name": "stdout",
          "text": [
            "\n",
            "Test set: Average loss: 0.0345, Accuracy: 9899/10000 (98.99%)\n",
            "\n",
            "Epoch 6:\n"
          ]
        },
        {
          "output_type": "stream",
          "name": "stderr",
          "text": [
            "Loss=0.10446244478225708 Batch_id=937 Accuracy=97.60: 100%|██████████| 938/938 [00:39<00:00, 23.46it/s]\n"
          ]
        },
        {
          "output_type": "stream",
          "name": "stdout",
          "text": [
            "\n",
            "Test set: Average loss: 0.0332, Accuracy: 9906/10000 (99.06%)\n",
            "\n",
            "Epoch 7:\n"
          ]
        },
        {
          "output_type": "stream",
          "name": "stderr",
          "text": [
            "Loss=0.009683732874691486 Batch_id=937 Accuracy=97.81: 100%|██████████| 938/938 [00:40<00:00, 23.32it/s]\n"
          ]
        },
        {
          "output_type": "stream",
          "name": "stdout",
          "text": [
            "\n",
            "Test set: Average loss: 0.0263, Accuracy: 9914/10000 (99.14%)\n",
            "\n",
            "Epoch 8:\n"
          ]
        },
        {
          "output_type": "stream",
          "name": "stderr",
          "text": [
            "Loss=0.1708672046661377 Batch_id=937 Accuracy=97.89: 100%|██████████| 938/938 [00:40<00:00, 23.36it/s]\n"
          ]
        },
        {
          "output_type": "stream",
          "name": "stdout",
          "text": [
            "\n",
            "Test set: Average loss: 0.0260, Accuracy: 9920/10000 (99.20%)\n",
            "\n",
            "Epoch 9:\n"
          ]
        },
        {
          "output_type": "stream",
          "name": "stderr",
          "text": [
            "Loss=0.013498562388122082 Batch_id=937 Accuracy=98.10: 100%|██████████| 938/938 [00:41<00:00, 22.52it/s]\n"
          ]
        },
        {
          "output_type": "stream",
          "name": "stdout",
          "text": [
            "\n",
            "Test set: Average loss: 0.0212, Accuracy: 9935/10000 (99.35%)\n",
            "\n",
            "Epoch 10:\n"
          ]
        },
        {
          "output_type": "stream",
          "name": "stderr",
          "text": [
            "Loss=0.18722021579742432 Batch_id=937 Accuracy=98.16: 100%|██████████| 938/938 [00:39<00:00, 23.57it/s]\n"
          ]
        },
        {
          "output_type": "stream",
          "name": "stdout",
          "text": [
            "\n",
            "Test set: Average loss: 0.0254, Accuracy: 9915/10000 (99.15%)\n",
            "\n",
            "Epoch 11:\n"
          ]
        },
        {
          "output_type": "stream",
          "name": "stderr",
          "text": [
            "Loss=0.01003762986510992 Batch_id=937 Accuracy=98.28: 100%|██████████| 938/938 [00:39<00:00, 23.62it/s]\n"
          ]
        },
        {
          "output_type": "stream",
          "name": "stdout",
          "text": [
            "\n",
            "Test set: Average loss: 0.0223, Accuracy: 9927/10000 (99.27%)\n",
            "\n",
            "Epoch 12:\n"
          ]
        },
        {
          "output_type": "stream",
          "name": "stderr",
          "text": [
            "Loss=0.013165070675313473 Batch_id=937 Accuracy=98.28: 100%|██████████| 938/938 [00:39<00:00, 23.56it/s]\n"
          ]
        },
        {
          "output_type": "stream",
          "name": "stdout",
          "text": [
            "\n",
            "Test set: Average loss: 0.0250, Accuracy: 9928/10000 (99.28%)\n",
            "\n",
            "Epoch 13:\n"
          ]
        },
        {
          "output_type": "stream",
          "name": "stderr",
          "text": [
            "Loss=0.0033657681196928024 Batch_id=937 Accuracy=98.41: 100%|██████████| 938/938 [00:41<00:00, 22.42it/s]\n"
          ]
        },
        {
          "output_type": "stream",
          "name": "stdout",
          "text": [
            "\n",
            "Test set: Average loss: 0.0209, Accuracy: 9936/10000 (99.36%)\n",
            "\n",
            "Epoch 14:\n"
          ]
        },
        {
          "output_type": "stream",
          "name": "stderr",
          "text": [
            "Loss=0.009490170516073704 Batch_id=937 Accuracy=98.46: 100%|██████████| 938/938 [00:39<00:00, 23.62it/s]\n"
          ]
        },
        {
          "output_type": "stream",
          "name": "stdout",
          "text": [
            "\n",
            "Test set: Average loss: 0.0191, Accuracy: 9942/10000 (99.42%)\n",
            "\n",
            "Epoch 15:\n"
          ]
        },
        {
          "output_type": "stream",
          "name": "stderr",
          "text": [
            "Loss=0.31099846959114075 Batch_id=937 Accuracy=98.58: 100%|██████████| 938/938 [00:39<00:00, 23.57it/s]\n"
          ]
        },
        {
          "output_type": "stream",
          "name": "stdout",
          "text": [
            "\n",
            "Test set: Average loss: 0.0184, Accuracy: 9944/10000 (99.44%)\n",
            "\n",
            "Epoch 16:\n"
          ]
        },
        {
          "output_type": "stream",
          "name": "stderr",
          "text": [
            "Loss=0.2368745058774948 Batch_id=937 Accuracy=98.68: 100%|██████████| 938/938 [00:39<00:00, 23.70it/s]\n"
          ]
        },
        {
          "output_type": "stream",
          "name": "stdout",
          "text": [
            "\n",
            "Test set: Average loss: 0.0194, Accuracy: 9942/10000 (99.42%)\n",
            "\n",
            "Epoch 17:\n"
          ]
        },
        {
          "output_type": "stream",
          "name": "stderr",
          "text": [
            "Loss=0.009784123860299587 Batch_id=937 Accuracy=98.71: 100%|██████████| 938/938 [00:39<00:00, 23.91it/s]\n"
          ]
        },
        {
          "output_type": "stream",
          "name": "stdout",
          "text": [
            "\n",
            "Test set: Average loss: 0.0190, Accuracy: 9940/10000 (99.40%)\n",
            "\n",
            "Epoch 18:\n"
          ]
        },
        {
          "output_type": "stream",
          "name": "stderr",
          "text": [
            "Loss=0.11512430757284164 Batch_id=937 Accuracy=98.80: 100%|██████████| 938/938 [00:41<00:00, 22.81it/s]\n"
          ]
        },
        {
          "output_type": "stream",
          "name": "stdout",
          "text": [
            "\n",
            "Test set: Average loss: 0.0173, Accuracy: 9946/10000 (99.46%)\n",
            "\n",
            "Epoch 19:\n"
          ]
        },
        {
          "output_type": "stream",
          "name": "stderr",
          "text": [
            "Loss=0.35514065623283386 Batch_id=937 Accuracy=98.85: 100%|██████████| 938/938 [00:39<00:00, 23.91it/s]\n"
          ]
        },
        {
          "output_type": "stream",
          "name": "stdout",
          "text": [
            "\n",
            "Test set: Average loss: 0.0166, Accuracy: 9950/10000 (99.50%)\n",
            "\n",
            "Epoch 20:\n"
          ]
        },
        {
          "output_type": "stream",
          "name": "stderr",
          "text": [
            "Loss=0.0075953369960188866 Batch_id=937 Accuracy=98.83: 100%|██████████| 938/938 [00:38<00:00, 24.31it/s]\n"
          ]
        },
        {
          "output_type": "stream",
          "name": "stdout",
          "text": [
            "\n",
            "Test set: Average loss: 0.0166, Accuracy: 9953/10000 (99.53%)\n",
            "\n"
          ]
        }
      ],
      "source": [
        "experiment_name='LayerNorm'\n",
        "norm_type='LN'\n",
        "l1_factor=0\n",
        "l2_factor=0\n",
        "(exp_metrics[experiment_name]),model = helper.experiments(train_loader, test_loader,'LN',l1_factor,l2_factor,dropout,EPOCH)\n",
        "torch.save(model, './models/{}.pt'.format(experiment_name))"
      ]
    },
    {
      "cell_type": "code",
      "execution_count": 8,
      "metadata": {
        "colab": {
          "base_uri": "https://localhost:8080/",
          "height": 629
        },
        "id": "FbDMqJfwrWTs",
        "outputId": "f8804f6e-16cc-4db4-c853-cc71c03bceb0"
      },
      "outputs": [
        {
          "output_type": "stream",
          "name": "stdout",
          "text": [
            "Total wrong predictions are 47\n"
          ]
        },
        {
          "output_type": "display_data",
          "data": {
            "text/plain": [
              "<Figure size 576x720 with 10 Axes>"
            ],
            "image/png": "[encoded data removed]"
          },
          "metadata": {
            "needs_background": "light"
          }
        }
      ],
      "source": [
        "model = torch.load(f'./models/{experiment_name}.pt')\n",
        "model.eval()\n",
        "helper.wrong_predictions(test_loader,model,device)"
      ]
    },
    {
      "cell_type": "markdown",
      "metadata": {
        "id": "kQ3_UQnwr0by"
      },
      "source": [
        "# GroupNorm with no regularization"
      ]
    },
    {
      "cell_type": "code",
      "execution_count": 9,
      "metadata": {
        "colab": {
          "base_uri": "https://localhost:8080/"
        },
        "id": "RBvJdyd8rose",
        "outputId": "d211fc72-8c9f-4f99-bb40-eddb5cc6ece1"
      },
      "outputs": [
        {
          "output_type": "stream",
          "name": "stdout",
          "text": [
            "Epoch 1:\n"
          ]
        },
        {
          "output_type": "stream",
          "name": "stderr",
          "text": [
            "Loss=0.5071306824684143 Batch_id=937 Accuracy=73.81: 100%|██████████| 938/938 [00:38<00:00, 24.55it/s]\n"
          ]
        },
        {
          "output_type": "stream",
          "name": "stdout",
          "text": [
            "\n",
            "Test set: Average loss: 0.1800, Accuracy: 9575/10000 (95.75%)\n",
            "\n",
            "Epoch 2:\n"
          ]
        },
        {
          "output_type": "stream",
          "name": "stderr",
          "text": [
            "Loss=0.1265510618686676 Batch_id=937 Accuracy=93.48: 100%|██████████| 938/938 [00:38<00:00, 24.37it/s]\n"
          ]
        },
        {
          "output_type": "stream",
          "name": "stdout",
          "text": [
            "\n",
            "Test set: Average loss: 0.0775, Accuracy: 9794/10000 (97.94%)\n",
            "\n",
            "Epoch 3:\n"
          ]
        },
        {
          "output_type": "stream",
          "name": "stderr",
          "text": [
            "Loss=0.42962709069252014 Batch_id=937 Accuracy=95.61: 100%|██████████| 938/938 [00:39<00:00, 23.46it/s]\n"
          ]
        },
        {
          "output_type": "stream",
          "name": "stdout",
          "text": [
            "\n",
            "Test set: Average loss: 0.0610, Accuracy: 9832/10000 (98.32%)\n",
            "\n",
            "Epoch 4:\n"
          ]
        },
        {
          "output_type": "stream",
          "name": "stderr",
          "text": [
            "Loss=0.09580110758543015 Batch_id=937 Accuracy=96.50: 100%|██████████| 938/938 [00:38<00:00, 24.41it/s]\n"
          ]
        },
        {
          "output_type": "stream",
          "name": "stdout",
          "text": [
            "\n",
            "Test set: Average loss: 0.0416, Accuracy: 9890/10000 (98.90%)\n",
            "\n",
            "Epoch 5:\n"
          ]
        },
        {
          "output_type": "stream",
          "name": "stderr",
          "text": [
            "Loss=0.06246509775519371 Batch_id=937 Accuracy=96.91: 100%|██████████| 938/938 [00:37<00:00, 24.78it/s]\n"
          ]
        },
        {
          "output_type": "stream",
          "name": "stdout",
          "text": [
            "\n",
            "Test set: Average loss: 0.0346, Accuracy: 9905/10000 (99.05%)\n",
            "\n",
            "Epoch 6:\n"
          ]
        },
        {
          "output_type": "stream",
          "name": "stderr",
          "text": [
            "Loss=0.011787653900682926 Batch_id=937 Accuracy=97.26: 100%|██████████| 938/938 [00:37<00:00, 24.87it/s]\n"
          ]
        },
        {
          "output_type": "stream",
          "name": "stdout",
          "text": [
            "\n",
            "Test set: Average loss: 0.0560, Accuracy: 9825/10000 (98.25%)\n",
            "\n",
            "Epoch 7:\n"
          ]
        },
        {
          "output_type": "stream",
          "name": "stderr",
          "text": [
            "Loss=0.01215006411075592 Batch_id=937 Accuracy=97.54: 100%|██████████| 938/938 [00:37<00:00, 24.68it/s]\n"
          ]
        },
        {
          "output_type": "stream",
          "name": "stdout",
          "text": [
            "\n",
            "Test set: Average loss: 0.0343, Accuracy: 9909/10000 (99.09%)\n",
            "\n",
            "Epoch 8:\n"
          ]
        },
        {
          "output_type": "stream",
          "name": "stderr",
          "text": [
            "Loss=0.006530712824314833 Batch_id=937 Accuracy=97.73: 100%|██████████| 938/938 [00:39<00:00, 23.57it/s]\n"
          ]
        },
        {
          "output_type": "stream",
          "name": "stdout",
          "text": [
            "\n",
            "Test set: Average loss: 0.0295, Accuracy: 9918/10000 (99.18%)\n",
            "\n",
            "Epoch 9:\n"
          ]
        },
        {
          "output_type": "stream",
          "name": "stderr",
          "text": [
            "Loss=0.3161182701587677 Batch_id=937 Accuracy=97.74: 100%|██████████| 938/938 [00:37<00:00, 24.73it/s]\n"
          ]
        },
        {
          "output_type": "stream",
          "name": "stdout",
          "text": [
            "\n",
            "Test set: Average loss: 0.0325, Accuracy: 9909/10000 (99.09%)\n",
            "\n",
            "Epoch 10:\n"
          ]
        },
        {
          "output_type": "stream",
          "name": "stderr",
          "text": [
            "Loss=0.1449187844991684 Batch_id=937 Accuracy=97.93: 100%|██████████| 938/938 [00:38<00:00, 24.54it/s]\n"
          ]
        },
        {
          "output_type": "stream",
          "name": "stdout",
          "text": [
            "\n",
            "Test set: Average loss: 0.0269, Accuracy: 9929/10000 (99.29%)\n",
            "\n",
            "Epoch 11:\n"
          ]
        },
        {
          "output_type": "stream",
          "name": "stderr",
          "text": [
            "Loss=0.003790496615692973 Batch_id=937 Accuracy=98.08: 100%|██████████| 938/938 [00:38<00:00, 24.09it/s]\n"
          ]
        },
        {
          "output_type": "stream",
          "name": "stdout",
          "text": [
            "\n",
            "Test set: Average loss: 0.0276, Accuracy: 9915/10000 (99.15%)\n",
            "\n",
            "Epoch 12:\n"
          ]
        },
        {
          "output_type": "stream",
          "name": "stderr",
          "text": [
            "Loss=0.006484667304903269 Batch_id=937 Accuracy=98.02: 100%|██████████| 938/938 [00:39<00:00, 23.71it/s]\n"
          ]
        },
        {
          "output_type": "stream",
          "name": "stdout",
          "text": [
            "\n",
            "Test set: Average loss: 0.0248, Accuracy: 9923/10000 (99.23%)\n",
            "\n",
            "Epoch 13:\n"
          ]
        },
        {
          "output_type": "stream",
          "name": "stderr",
          "text": [
            "Loss=0.0051682814955711365 Batch_id=937 Accuracy=98.22: 100%|██████████| 938/938 [00:42<00:00, 22.03it/s]\n"
          ]
        },
        {
          "output_type": "stream",
          "name": "stdout",
          "text": [
            "\n",
            "Test set: Average loss: 0.0243, Accuracy: 9925/10000 (99.25%)\n",
            "\n",
            "Epoch 14:\n"
          ]
        },
        {
          "output_type": "stream",
          "name": "stderr",
          "text": [
            "Loss=0.09728041291236877 Batch_id=937 Accuracy=98.35: 100%|██████████| 938/938 [00:40<00:00, 22.94it/s]\n"
          ]
        },
        {
          "output_type": "stream",
          "name": "stdout",
          "text": [
            "\n",
            "Test set: Average loss: 0.0224, Accuracy: 9931/10000 (99.31%)\n",
            "\n",
            "Epoch 15:\n"
          ]
        },
        {
          "output_type": "stream",
          "name": "stderr",
          "text": [
            "Loss=0.04191896691918373 Batch_id=937 Accuracy=98.31: 100%|██████████| 938/938 [00:40<00:00, 22.94it/s]\n"
          ]
        },
        {
          "output_type": "stream",
          "name": "stdout",
          "text": [
            "\n",
            "Test set: Average loss: 0.0228, Accuracy: 9931/10000 (99.31%)\n",
            "\n",
            "Epoch 16:\n"
          ]
        },
        {
          "output_type": "stream",
          "name": "stderr",
          "text": [
            "Loss=0.16579867899417877 Batch_id=937 Accuracy=98.53: 100%|██████████| 938/938 [00:39<00:00, 23.58it/s]\n"
          ]
        },
        {
          "output_type": "stream",
          "name": "stdout",
          "text": [
            "\n",
            "Test set: Average loss: 0.0196, Accuracy: 9938/10000 (99.38%)\n",
            "\n",
            "Epoch 17:\n"
          ]
        },
        {
          "output_type": "stream",
          "name": "stderr",
          "text": [
            "Loss=0.001927073230035603 Batch_id=937 Accuracy=98.63: 100%|██████████| 938/938 [00:39<00:00, 23.71it/s]\n"
          ]
        },
        {
          "output_type": "stream",
          "name": "stdout",
          "text": [
            "\n",
            "Test set: Average loss: 0.0211, Accuracy: 9939/10000 (99.39%)\n",
            "\n",
            "Epoch 18:\n"
          ]
        },
        {
          "output_type": "stream",
          "name": "stderr",
          "text": [
            "Loss=0.009654030203819275 Batch_id=937 Accuracy=98.72: 100%|██████████| 938/938 [00:41<00:00, 22.73it/s]\n"
          ]
        },
        {
          "output_type": "stream",
          "name": "stdout",
          "text": [
            "\n",
            "Test set: Average loss: 0.0194, Accuracy: 9941/10000 (99.41%)\n",
            "\n",
            "Epoch 19:\n"
          ]
        },
        {
          "output_type": "stream",
          "name": "stderr",
          "text": [
            "Loss=0.011704078875482082 Batch_id=937 Accuracy=98.71: 100%|██████████| 938/938 [00:39<00:00, 23.69it/s]\n"
          ]
        },
        {
          "output_type": "stream",
          "name": "stdout",
          "text": [
            "\n",
            "Test set: Average loss: 0.0187, Accuracy: 9944/10000 (99.44%)\n",
            "\n",
            "Epoch 20:\n"
          ]
        },
        {
          "output_type": "stream",
          "name": "stderr",
          "text": [
            "Loss=0.0022614668123424053 Batch_id=937 Accuracy=98.73: 100%|██████████| 938/938 [00:39<00:00, 23.77it/s]\n"
          ]
        },
        {
          "output_type": "stream",
          "name": "stdout",
          "text": [
            "\n",
            "Test set: Average loss: 0.0191, Accuracy: 9941/10000 (99.41%)\n",
            "\n"
          ]
        }
      ],
      "source": [
        "experiment_name='GroupNorm'\n",
        "norm_type='GN'\n",
        "l1_factor=0\n",
        "l2_factor=0\n",
        "(exp_metrics[experiment_name]),model = helper.experiments(train_loader, test_loader,norm_type,l1_factor,l2_factor,dropout,EPOCH)\n",
        "torch.save(model, './models/{}.pt'.format(experiment_name))"
      ]
    },
    {
      "cell_type": "markdown",
      "metadata": {
        "id": "UUAY1I_lr8IB"
      },
      "source": [
        "# Model Summary"
      ]
    },
    {
      "cell_type": "code",
      "execution_count": 10,
      "metadata": {
        "id": "r8v2EwuPr2Rd"
      },
      "outputs": [],
      "source": [
        "#helper.model_summary(model,(1,28,28))"
      ]
    },
    {
      "cell_type": "markdown",
      "metadata": {
        "id": "u-aPOlzrsG_C"
      },
      "source": [
        "# Misclassified Images for Exp2"
      ]
    },
    {
      "cell_type": "code",
      "execution_count": 11,
      "metadata": {
        "colab": {
          "base_uri": "https://localhost:8080/",
          "height": 629
        },
        "id": "Uy4dtiglr-GB",
        "outputId": "348d67a9-0add-4adf-b8b6-15e38049daa4"
      },
      "outputs": [
        {
          "output_type": "stream",
          "name": "stdout",
          "text": [
            "Total wrong predictions are 59\n"
          ]
        },
        {
          "output_type": "display_data",
          "data": {
            "text/plain": [
              "<Figure size 576x720 with 10 Axes>"
            ],
            "image/png": "[encoded data removed]"
          },
          "metadata": {
            "needs_background": "light"
          }
        }
      ],
      "source": [
        "model = torch.load(f'./models/{experiment_name}.pt')\n",
        "model.eval()\n",
        "helper.wrong_predictions(test_loader,model,device)"
      ]
    },
    {
      "cell_type": "markdown",
      "metadata": {
        "id": "A_CCuiYgsMWq"
      },
      "source": [
        "# BatchNorm with L1 regularization"
      ]
    },
    {
      "cell_type": "code",
      "execution_count": 12,
      "metadata": {
        "colab": {
          "base_uri": "https://localhost:8080/"
        },
        "id": "-pjNDZVBsKTZ",
        "outputId": "e744ee8e-b7ae-4c30-9b44-9fd6a16bd5f2"
      },
      "outputs": [
        {
          "output_type": "stream",
          "name": "stdout",
          "text": [
            "Epoch 1:\n"
          ]
        },
        {
          "output_type": "stream",
          "name": "stderr",
          "text": [
            "Loss=0.6999032497406006 Batch_id=937 Accuracy=76.63: 100%|██████████| 938/938 [00:40<00:00, 22.90it/s]\n"
          ]
        },
        {
          "output_type": "stream",
          "name": "stdout",
          "text": [
            "\n",
            "Test set: Average loss: 0.1432, Accuracy: 9617/10000 (96.17%)\n",
            "\n",
            "Epoch 2:\n"
          ]
        },
        {
          "output_type": "stream",
          "name": "stderr",
          "text": [
            "Loss=0.4520042836666107 Batch_id=937 Accuracy=94.11: 100%|██████████| 938/938 [00:41<00:00, 22.67it/s]\n"
          ]
        },
        {
          "output_type": "stream",
          "name": "stdout",
          "text": [
            "\n",
            "Test set: Average loss: 0.0776, Accuracy: 9760/10000 (97.60%)\n",
            "\n",
            "Epoch 3:\n"
          ]
        },
        {
          "output_type": "stream",
          "name": "stderr",
          "text": [
            "Loss=0.4728822112083435 Batch_id=937 Accuracy=95.05: 100%|██████████| 938/938 [00:40<00:00, 23.34it/s]\n"
          ]
        },
        {
          "output_type": "stream",
          "name": "stdout",
          "text": [
            "\n",
            "Test set: Average loss: 0.0772, Accuracy: 9743/10000 (97.43%)\n",
            "\n",
            "Epoch 4:\n"
          ]
        },
        {
          "output_type": "stream",
          "name": "stderr",
          "text": [
            "Loss=0.4914086163043976 Batch_id=937 Accuracy=95.24: 100%|██████████| 938/938 [00:40<00:00, 23.43it/s]\n"
          ]
        },
        {
          "output_type": "stream",
          "name": "stdout",
          "text": [
            "\n",
            "Test set: Average loss: 0.0784, Accuracy: 9769/10000 (97.69%)\n",
            "\n",
            "Epoch 5:\n"
          ]
        },
        {
          "output_type": "stream",
          "name": "stderr",
          "text": [
            "Loss=0.8242319226264954 Batch_id=937 Accuracy=95.54: 100%|██████████| 938/938 [00:39<00:00, 23.46it/s]\n"
          ]
        },
        {
          "output_type": "stream",
          "name": "stdout",
          "text": [
            "\n",
            "Test set: Average loss: 0.0854, Accuracy: 9715/10000 (97.15%)\n",
            "\n",
            "Epoch 6:\n"
          ]
        },
        {
          "output_type": "stream",
          "name": "stderr",
          "text": [
            "Loss=0.35425296425819397 Batch_id=937 Accuracy=95.59: 100%|██████████| 938/938 [00:40<00:00, 23.33it/s]\n"
          ]
        },
        {
          "output_type": "stream",
          "name": "stdout",
          "text": [
            "\n",
            "Test set: Average loss: 0.0725, Accuracy: 9773/10000 (97.73%)\n",
            "\n",
            "Epoch 7:\n"
          ]
        },
        {
          "output_type": "stream",
          "name": "stderr",
          "text": [
            "Loss=0.4247889518737793 Batch_id=937 Accuracy=95.53: 100%|██████████| 938/938 [00:41<00:00, 22.41it/s]\n"
          ]
        },
        {
          "output_type": "stream",
          "name": "stdout",
          "text": [
            "\n",
            "Test set: Average loss: 0.0713, Accuracy: 9783/10000 (97.83%)\n",
            "\n",
            "Epoch 8:\n"
          ]
        },
        {
          "output_type": "stream",
          "name": "stderr",
          "text": [
            "Loss=0.3371009826660156 Batch_id=937 Accuracy=95.69: 100%|██████████| 938/938 [00:40<00:00, 23.30it/s]\n"
          ]
        },
        {
          "output_type": "stream",
          "name": "stdout",
          "text": [
            "\n",
            "Test set: Average loss: 0.0654, Accuracy: 9786/10000 (97.86%)\n",
            "\n",
            "Epoch 9:\n"
          ]
        },
        {
          "output_type": "stream",
          "name": "stderr",
          "text": [
            "Loss=0.36258620023727417 Batch_id=937 Accuracy=95.82: 100%|██████████| 938/938 [00:40<00:00, 23.42it/s]\n"
          ]
        },
        {
          "output_type": "stream",
          "name": "stdout",
          "text": [
            "\n",
            "Test set: Average loss: 0.0735, Accuracy: 9772/10000 (97.72%)\n",
            "\n",
            "Epoch 10:\n"
          ]
        },
        {
          "output_type": "stream",
          "name": "stderr",
          "text": [
            "Loss=0.5870799422264099 Batch_id=937 Accuracy=95.81: 100%|██████████| 938/938 [00:39<00:00, 23.47it/s]\n"
          ]
        },
        {
          "output_type": "stream",
          "name": "stdout",
          "text": [
            "\n",
            "Test set: Average loss: 0.0596, Accuracy: 9810/10000 (98.10%)\n",
            "\n",
            "Epoch 11:\n"
          ]
        },
        {
          "output_type": "stream",
          "name": "stderr",
          "text": [
            "Loss=0.5353160500526428 Batch_id=937 Accuracy=95.78: 100%|██████████| 938/938 [00:40<00:00, 23.05it/s]\n"
          ]
        },
        {
          "output_type": "stream",
          "name": "stdout",
          "text": [
            "\n",
            "Test set: Average loss: 0.0551, Accuracy: 9825/10000 (98.25%)\n",
            "\n",
            "Epoch 12:\n"
          ]
        },
        {
          "output_type": "stream",
          "name": "stderr",
          "text": [
            "Loss=0.38884779810905457 Batch_id=937 Accuracy=95.95: 100%|██████████| 938/938 [00:41<00:00, 22.42it/s]\n"
          ]
        },
        {
          "output_type": "stream",
          "name": "stdout",
          "text": [
            "\n",
            "Test set: Average loss: 0.0548, Accuracy: 9822/10000 (98.22%)\n",
            "\n",
            "Epoch 13:\n"
          ]
        },
        {
          "output_type": "stream",
          "name": "stderr",
          "text": [
            "Loss=0.5931605100631714 Batch_id=937 Accuracy=96.05: 100%|██████████| 938/938 [00:40<00:00, 23.24it/s]\n"
          ]
        },
        {
          "output_type": "stream",
          "name": "stdout",
          "text": [
            "\n",
            "Test set: Average loss: 0.0597, Accuracy: 9813/10000 (98.13%)\n",
            "\n",
            "Epoch 14:\n"
          ]
        },
        {
          "output_type": "stream",
          "name": "stderr",
          "text": [
            "Loss=0.5973575115203857 Batch_id=937 Accuracy=96.10: 100%|██████████| 938/938 [00:40<00:00, 23.44it/s]\n"
          ]
        },
        {
          "output_type": "stream",
          "name": "stdout",
          "text": [
            "\n",
            "Test set: Average loss: 0.0427, Accuracy: 9854/10000 (98.54%)\n",
            "\n",
            "Epoch 15:\n"
          ]
        },
        {
          "output_type": "stream",
          "name": "stderr",
          "text": [
            "Loss=0.8872842788696289 Batch_id=937 Accuracy=96.31: 100%|██████████| 938/938 [00:40<00:00, 23.44it/s]\n"
          ]
        },
        {
          "output_type": "stream",
          "name": "stdout",
          "text": [
            "\n",
            "Test set: Average loss: 0.0783, Accuracy: 9773/10000 (97.73%)\n",
            "\n",
            "Epoch 16:\n"
          ]
        },
        {
          "output_type": "stream",
          "name": "stderr",
          "text": [
            "Loss=0.5744814276695251 Batch_id=937 Accuracy=96.52: 100%|██████████| 938/938 [00:40<00:00, 23.11it/s]\n"
          ]
        },
        {
          "output_type": "stream",
          "name": "stdout",
          "text": [
            "\n",
            "Test set: Average loss: 0.0406, Accuracy: 9863/10000 (98.63%)\n",
            "\n",
            "Epoch 17:\n"
          ]
        },
        {
          "output_type": "stream",
          "name": "stderr",
          "text": [
            "Loss=0.30259087681770325 Batch_id=937 Accuracy=96.87: 100%|██████████| 938/938 [00:40<00:00, 23.34it/s]\n"
          ]
        },
        {
          "output_type": "stream",
          "name": "stdout",
          "text": [
            "\n",
            "Test set: Average loss: 0.0317, Accuracy: 9901/10000 (99.01%)\n",
            "\n",
            "Epoch 18:\n"
          ]
        },
        {
          "output_type": "stream",
          "name": "stderr",
          "text": [
            "Loss=0.3416006565093994 Batch_id=937 Accuracy=97.22: 100%|██████████| 938/938 [00:40<00:00, 23.24it/s]\n"
          ]
        },
        {
          "output_type": "stream",
          "name": "stdout",
          "text": [
            "\n",
            "Test set: Average loss: 0.0282, Accuracy: 9914/10000 (99.14%)\n",
            "\n",
            "Epoch 19:\n"
          ]
        },
        {
          "output_type": "stream",
          "name": "stderr",
          "text": [
            "Loss=0.1963348686695099 Batch_id=937 Accuracy=97.75: 100%|██████████| 938/938 [00:40<00:00, 23.40it/s]\n"
          ]
        },
        {
          "output_type": "stream",
          "name": "stdout",
          "text": [
            "\n",
            "Test set: Average loss: 0.0236, Accuracy: 9927/10000 (99.27%)\n",
            "\n",
            "Epoch 20:\n"
          ]
        },
        {
          "output_type": "stream",
          "name": "stderr",
          "text": [
            "Loss=0.24869537353515625 Batch_id=937 Accuracy=98.03: 100%|██████████| 938/938 [00:40<00:00, 23.35it/s]\n"
          ]
        },
        {
          "output_type": "stream",
          "name": "stdout",
          "text": [
            "\n",
            "Test set: Average loss: 0.0214, Accuracy: 9938/10000 (99.38%)\n",
            "\n"
          ]
        }
      ],
      "source": [
        "experiment_name='BatchNorm+L1'\n",
        "norm_type='BN'\n",
        "l1_factor=0.001\n",
        "l2_factor=0\n",
        "(exp_metrics[experiment_name]),model = helper.experiments(train_loader, test_loader,norm_type,l1_factor,l2_factor,dropout,EPOCH)\n",
        "torch.save(model, './models/{}.pt'.format(experiment_name))"
      ]
    },
    {
      "cell_type": "markdown",
      "metadata": {
        "id": "LSqDxiXlsZIL"
      },
      "source": [
        "# Misclassified Images for Exp3"
      ]
    },
    {
      "cell_type": "code",
      "execution_count": 13,
      "metadata": {
        "colab": {
          "base_uri": "https://localhost:8080/",
          "height": 629
        },
        "id": "Pq-8mW9ZsVIW",
        "outputId": "b40c8759-8ce2-4773-9c45-f5596b37d847"
      },
      "outputs": [
        {
          "output_type": "stream",
          "name": "stdout",
          "text": [
            "Total wrong predictions are 62\n"
          ]
        },
        {
          "output_type": "display_data",
          "data": {
            "text/plain": [
              "<Figure size 576x720 with 10 Axes>"
            ],
            "image/png": "[encoded data removed]"
          },
          "metadata": {
            "needs_background": "light"
          }
        }
      ],
      "source": [
        "model = torch.load(f'./models/{experiment_name}.pt')\n",
        "model.eval()\n",
        "helper.wrong_predictions(test_loader,model,device)"
      ]
    },
    {
      "cell_type": "markdown",
      "metadata": {
        "id": "EcMCtOrBsghV"
      },
      "source": [
        "# GroupNorm with L1 regularization"
      ]
    },
    {
      "cell_type": "code",
      "execution_count": 14,
      "metadata": {
        "colab": {
          "base_uri": "https://localhost:8080/"
        },
        "id": "qnwBX-cDsdJZ",
        "outputId": "22d5bf27-37ab-48b2-a6e9-db2d5819f759"
      },
      "outputs": [
        {
          "output_type": "stream",
          "name": "stdout",
          "text": [
            "Epoch 1:\n"
          ]
        },
        {
          "output_type": "stream",
          "name": "stderr",
          "text": [
            "Loss=0.9372283220291138 Batch_id=937 Accuracy=66.81: 100%|██████████| 938/938 [00:41<00:00, 22.58it/s]\n"
          ]
        },
        {
          "output_type": "stream",
          "name": "stdout",
          "text": [
            "\n",
            "Test set: Average loss: 0.1960, Accuracy: 9559/10000 (95.59%)\n",
            "\n",
            "Epoch 2:\n"
          ]
        },
        {
          "output_type": "stream",
          "name": "stderr",
          "text": [
            "Loss=0.6502687931060791 Batch_id=937 Accuracy=92.89: 100%|██████████| 938/938 [00:40<00:00, 23.44it/s]\n"
          ]
        },
        {
          "output_type": "stream",
          "name": "stdout",
          "text": [
            "\n",
            "Test set: Average loss: 0.0755, Accuracy: 9797/10000 (97.97%)\n",
            "\n",
            "Epoch 3:\n"
          ]
        },
        {
          "output_type": "stream",
          "name": "stderr",
          "text": [
            "Loss=0.6893151998519897 Batch_id=937 Accuracy=94.31: 100%|██████████| 938/938 [00:40<00:00, 23.31it/s]\n"
          ]
        },
        {
          "output_type": "stream",
          "name": "stdout",
          "text": [
            "\n",
            "Test set: Average loss: 0.0931, Accuracy: 9747/10000 (97.47%)\n",
            "\n",
            "Epoch 4:\n"
          ]
        },
        {
          "output_type": "stream",
          "name": "stderr",
          "text": [
            "Loss=0.5330778360366821 Batch_id=937 Accuracy=94.74: 100%|██████████| 938/938 [00:40<00:00, 23.34it/s]\n"
          ]
        },
        {
          "output_type": "stream",
          "name": "stdout",
          "text": [
            "\n",
            "Test set: Average loss: 0.0851, Accuracy: 9792/10000 (97.92%)\n",
            "\n",
            "Epoch 5:\n"
          ]
        },
        {
          "output_type": "stream",
          "name": "stderr",
          "text": [
            "Loss=0.6846919059753418 Batch_id=937 Accuracy=95.13: 100%|██████████| 938/938 [00:40<00:00, 23.39it/s]\n"
          ]
        },
        {
          "output_type": "stream",
          "name": "stdout",
          "text": [
            "\n",
            "Test set: Average loss: 0.0626, Accuracy: 9826/10000 (98.26%)\n",
            "\n",
            "Epoch 6:\n"
          ]
        },
        {
          "output_type": "stream",
          "name": "stderr",
          "text": [
            "Loss=0.623128354549408 Batch_id=937 Accuracy=95.26: 100%|██████████| 938/938 [00:42<00:00, 22.29it/s]\n"
          ]
        },
        {
          "output_type": "stream",
          "name": "stdout",
          "text": [
            "\n",
            "Test set: Average loss: 0.0682, Accuracy: 9813/10000 (98.13%)\n",
            "\n",
            "Epoch 7:\n"
          ]
        },
        {
          "output_type": "stream",
          "name": "stderr",
          "text": [
            "Loss=0.43724381923675537 Batch_id=937 Accuracy=95.17: 100%|██████████| 938/938 [00:40<00:00, 23.30it/s]\n"
          ]
        },
        {
          "output_type": "stream",
          "name": "stdout",
          "text": [
            "\n",
            "Test set: Average loss: 0.0686, Accuracy: 9820/10000 (98.20%)\n",
            "\n",
            "Epoch 8:\n"
          ]
        },
        {
          "output_type": "stream",
          "name": "stderr",
          "text": [
            "Loss=1.137026309967041 Batch_id=937 Accuracy=94.99: 100%|██████████| 938/938 [00:40<00:00, 23.34it/s]\n"
          ]
        },
        {
          "output_type": "stream",
          "name": "stdout",
          "text": [
            "\n",
            "Test set: Average loss: 0.1649, Accuracy: 9532/10000 (95.32%)\n",
            "\n",
            "Epoch 9:\n"
          ]
        },
        {
          "output_type": "stream",
          "name": "stderr",
          "text": [
            "Loss=0.5314998030662537 Batch_id=937 Accuracy=95.41: 100%|██████████| 938/938 [00:39<00:00, 23.47it/s]\n"
          ]
        },
        {
          "output_type": "stream",
          "name": "stdout",
          "text": [
            "\n",
            "Test set: Average loss: 0.0584, Accuracy: 9834/10000 (98.34%)\n",
            "\n",
            "Epoch 10:\n"
          ]
        },
        {
          "output_type": "stream",
          "name": "stderr",
          "text": [
            "Loss=0.5765915513038635 Batch_id=937 Accuracy=95.39: 100%|██████████| 938/938 [00:41<00:00, 22.52it/s]\n"
          ]
        },
        {
          "output_type": "stream",
          "name": "stdout",
          "text": [
            "\n",
            "Test set: Average loss: 0.0731, Accuracy: 9799/10000 (97.99%)\n",
            "\n",
            "Epoch 11:\n"
          ]
        },
        {
          "output_type": "stream",
          "name": "stderr",
          "text": [
            "Loss=0.4048769474029541 Batch_id=937 Accuracy=95.90: 100%|██████████| 938/938 [00:40<00:00, 23.25it/s]\n"
          ]
        },
        {
          "output_type": "stream",
          "name": "stdout",
          "text": [
            "\n",
            "Test set: Average loss: 0.1159, Accuracy: 9700/10000 (97.00%)\n",
            "\n",
            "Epoch 12:\n"
          ]
        },
        {
          "output_type": "stream",
          "name": "stderr",
          "text": [
            "Loss=0.5182112455368042 Batch_id=937 Accuracy=95.47: 100%|██████████| 938/938 [00:40<00:00, 23.15it/s]\n"
          ]
        },
        {
          "output_type": "stream",
          "name": "stdout",
          "text": [
            "\n",
            "Test set: Average loss: 0.0596, Accuracy: 9837/10000 (98.37%)\n",
            "\n",
            "Epoch 13:\n"
          ]
        },
        {
          "output_type": "stream",
          "name": "stderr",
          "text": [
            "Loss=0.550658643245697 Batch_id=937 Accuracy=96.02: 100%|██████████| 938/938 [00:40<00:00, 23.42it/s]\n"
          ]
        },
        {
          "output_type": "stream",
          "name": "stdout",
          "text": [
            "\n",
            "Test set: Average loss: 0.0604, Accuracy: 9838/10000 (98.38%)\n",
            "\n",
            "Epoch 14:\n"
          ]
        },
        {
          "output_type": "stream",
          "name": "stderr",
          "text": [
            "Loss=0.5356786251068115 Batch_id=937 Accuracy=96.08: 100%|██████████| 938/938 [00:40<00:00, 23.19it/s]\n"
          ]
        },
        {
          "output_type": "stream",
          "name": "stdout",
          "text": [
            "\n",
            "Test set: Average loss: 0.0681, Accuracy: 9821/10000 (98.21%)\n",
            "\n",
            "Epoch 15:\n"
          ]
        },
        {
          "output_type": "stream",
          "name": "stderr",
          "text": [
            "Loss=0.3151366114616394 Batch_id=937 Accuracy=96.31: 100%|██████████| 938/938 [00:41<00:00, 22.36it/s]\n"
          ]
        },
        {
          "output_type": "stream",
          "name": "stdout",
          "text": [
            "\n",
            "Test set: Average loss: 0.0491, Accuracy: 9866/10000 (98.66%)\n",
            "\n",
            "Epoch 16:\n"
          ]
        },
        {
          "output_type": "stream",
          "name": "stderr",
          "text": [
            "Loss=0.35488903522491455 Batch_id=937 Accuracy=96.40: 100%|██████████| 938/938 [00:40<00:00, 23.11it/s]\n"
          ]
        },
        {
          "output_type": "stream",
          "name": "stdout",
          "text": [
            "\n",
            "Test set: Average loss: 0.0486, Accuracy: 9874/10000 (98.74%)\n",
            "\n",
            "Epoch 17:\n"
          ]
        },
        {
          "output_type": "stream",
          "name": "stderr",
          "text": [
            "Loss=0.2927353084087372 Batch_id=937 Accuracy=96.94: 100%|██████████| 938/938 [00:40<00:00, 23.11it/s]\n"
          ]
        },
        {
          "output_type": "stream",
          "name": "stdout",
          "text": [
            "\n",
            "Test set: Average loss: 0.0451, Accuracy: 9861/10000 (98.61%)\n",
            "\n",
            "Epoch 18:\n"
          ]
        },
        {
          "output_type": "stream",
          "name": "stderr",
          "text": [
            "Loss=0.3263954222202301 Batch_id=937 Accuracy=97.45: 100%|██████████| 938/938 [00:40<00:00, 23.19it/s]\n"
          ]
        },
        {
          "output_type": "stream",
          "name": "stdout",
          "text": [
            "\n",
            "Test set: Average loss: 0.0389, Accuracy: 9908/10000 (99.08%)\n",
            "\n",
            "Epoch 19:\n"
          ]
        },
        {
          "output_type": "stream",
          "name": "stderr",
          "text": [
            "Loss=0.2366868406534195 Batch_id=937 Accuracy=97.88: 100%|██████████| 938/938 [00:40<00:00, 23.25it/s]\n"
          ]
        },
        {
          "output_type": "stream",
          "name": "stdout",
          "text": [
            "\n",
            "Test set: Average loss: 0.0314, Accuracy: 9916/10000 (99.16%)\n",
            "\n",
            "Epoch 20:\n"
          ]
        },
        {
          "output_type": "stream",
          "name": "stderr",
          "text": [
            "Loss=0.2451169639825821 Batch_id=937 Accuracy=98.24: 100%|██████████| 938/938 [00:39<00:00, 23.45it/s]\n"
          ]
        },
        {
          "output_type": "stream",
          "name": "stdout",
          "text": [
            "\n",
            "Test set: Average loss: 0.0289, Accuracy: 9929/10000 (99.29%)\n",
            "\n"
          ]
        }
      ],
      "source": [
        "experiment_name='GroupNorm+L1'\n",
        "norm_type='GN'\n",
        "l1_factor=0.001\n",
        "l2_factor=0\n",
        "(exp_metrics[experiment_name]),model = helper.experiments(train_loader, test_loader,norm_type,l1_factor,l2_factor,dropout,EPOCH)\n",
        "torch.save(model, './models/{}.pt'.format(experiment_name))"
      ]
    },
    {
      "cell_type": "markdown",
      "metadata": {
        "id": "uUx9u0J3smZZ"
      },
      "source": [
        "# Misclassified Images for Exp4"
      ]
    },
    {
      "cell_type": "code",
      "execution_count": 15,
      "metadata": {
        "colab": {
          "base_uri": "https://localhost:8080/",
          "height": 629
        },
        "id": "aqvGrEOXsjl2",
        "outputId": "254f5f7d-fc22-46bf-9fcb-8a631c9079a4"
      },
      "outputs": [
        {
          "output_type": "stream",
          "name": "stdout",
          "text": [
            "Total wrong predictions are 71\n"
          ]
        },
        {
          "output_type": "display_data",
          "data": {
            "text/plain": [
              "<Figure size 576x720 with 10 Axes>"
            ],
            "image/png": "[encoded data removed]"
          },
          "metadata": {
            "needs_background": "light"
          }
        }
      ],
      "source": [
        "model = torch.load(f'./models/{experiment_name}.pt')\n",
        "model.eval()\n",
        "helper.wrong_predictions(test_loader,model,device)"
      ]
    },
    {
      "cell_type": "markdown",
      "metadata": {
        "id": "ErTTvvL1stmr"
      },
      "source": [
        "# LayerNorm with L2 regularization"
      ]
    },
    {
      "cell_type": "code",
      "execution_count": 7,
      "metadata": {
        "colab": {
          "base_uri": "https://localhost:8080/"
        },
        "id": "F9YeG-bZsqql",
        "outputId": "f6044337-b36c-4433-d885-05abb3272b3b"
      },
      "outputs": [
        {
          "output_type": "stream",
          "name": "stdout",
          "text": [
            "Epoch 1:\n"
          ]
        },
        {
          "output_type": "stream",
          "name": "stderr",
          "text": [
            "Loss=0.2563927173614502 Batch_id=937 Accuracy=77.06: 100%|██████████| 938/938 [01:29<00:00, 10.51it/s]\n"
          ]
        },
        {
          "output_type": "stream",
          "name": "stdout",
          "text": [
            "\n",
            "Test set: Average loss: 0.1339, Accuracy: 9700/10000 (97.00%)\n",
            "\n",
            "Epoch 2:\n"
          ]
        },
        {
          "output_type": "stream",
          "name": "stderr",
          "text": [
            "Loss=0.17054234445095062 Batch_id=937 Accuracy=94.83: 100%|██████████| 938/938 [01:28<00:00, 10.54it/s]\n"
          ]
        },
        {
          "output_type": "stream",
          "name": "stdout",
          "text": [
            "\n",
            "Test set: Average loss: 0.0498, Accuracy: 9863/10000 (98.63%)\n",
            "\n",
            "Epoch 3:\n"
          ]
        },
        {
          "output_type": "stream",
          "name": "stderr",
          "text": [
            "Loss=0.07092521339654922 Batch_id=937 Accuracy=96.10: 100%|██████████| 938/938 [01:28<00:00, 10.55it/s]\n"
          ]
        },
        {
          "output_type": "stream",
          "name": "stdout",
          "text": [
            "\n",
            "Test set: Average loss: 0.0510, Accuracy: 9864/10000 (98.64%)\n",
            "\n",
            "Epoch 4:\n"
          ]
        },
        {
          "output_type": "stream",
          "name": "stderr",
          "text": [
            "Loss=0.042779985815286636 Batch_id=937 Accuracy=96.82: 100%|██████████| 938/938 [01:31<00:00, 10.21it/s]\n"
          ]
        },
        {
          "output_type": "stream",
          "name": "stdout",
          "text": [
            "\n",
            "Test set: Average loss: 0.0440, Accuracy: 9888/10000 (98.88%)\n",
            "\n",
            "Epoch 5:\n"
          ]
        },
        {
          "output_type": "stream",
          "name": "stderr",
          "text": [
            "Loss=0.04148019105195999 Batch_id=937 Accuracy=97.07: 100%|██████████| 938/938 [01:29<00:00, 10.53it/s]\n"
          ]
        },
        {
          "output_type": "stream",
          "name": "stdout",
          "text": [
            "\n",
            "Test set: Average loss: 0.0374, Accuracy: 9892/10000 (98.92%)\n",
            "\n",
            "Epoch 6:\n"
          ]
        },
        {
          "output_type": "stream",
          "name": "stderr",
          "text": [
            "Loss=0.06310521811246872 Batch_id=937 Accuracy=97.27: 100%|██████████| 938/938 [01:29<00:00, 10.45it/s]\n"
          ]
        },
        {
          "output_type": "stream",
          "name": "stdout",
          "text": [
            "\n",
            "Test set: Average loss: 0.0321, Accuracy: 9903/10000 (99.03%)\n",
            "\n",
            "Epoch 7:\n"
          ]
        },
        {
          "output_type": "stream",
          "name": "stderr",
          "text": [
            "Loss=0.08381294459104538 Batch_id=937 Accuracy=97.61: 100%|██████████| 938/938 [01:30<00:00, 10.32it/s]\n"
          ]
        },
        {
          "output_type": "stream",
          "name": "stdout",
          "text": [
            "\n",
            "Test set: Average loss: 0.0312, Accuracy: 9911/10000 (99.11%)\n",
            "\n",
            "Epoch 8:\n"
          ]
        },
        {
          "output_type": "stream",
          "name": "stderr",
          "text": [
            "Loss=0.04318604618310928 Batch_id=937 Accuracy=97.65: 100%|██████████| 938/938 [01:28<00:00, 10.56it/s]\n"
          ]
        },
        {
          "output_type": "stream",
          "name": "stdout",
          "text": [
            "\n",
            "Test set: Average loss: 0.0348, Accuracy: 9890/10000 (98.90%)\n",
            "\n",
            "Epoch 9:\n"
          ]
        },
        {
          "output_type": "stream",
          "name": "stderr",
          "text": [
            "Loss=0.06550870835781097 Batch_id=937 Accuracy=97.80: 100%|██████████| 938/938 [01:30<00:00, 10.34it/s]\n"
          ]
        },
        {
          "output_type": "stream",
          "name": "stdout",
          "text": [
            "\n",
            "Test set: Average loss: 0.0315, Accuracy: 9902/10000 (99.02%)\n",
            "\n",
            "Epoch 10:\n"
          ]
        },
        {
          "output_type": "stream",
          "name": "stderr",
          "text": [
            "Loss=0.05030936375260353 Batch_id=937 Accuracy=97.83: 100%|██████████| 938/938 [01:30<00:00, 10.35it/s]\n"
          ]
        },
        {
          "output_type": "stream",
          "name": "stdout",
          "text": [
            "\n",
            "Test set: Average loss: 0.0308, Accuracy: 9915/10000 (99.15%)\n",
            "\n",
            "Epoch 11:\n"
          ]
        },
        {
          "output_type": "stream",
          "name": "stderr",
          "text": [
            "Loss=0.015551906079053879 Batch_id=937 Accuracy=97.94: 100%|██████████| 938/938 [01:33<00:00, 10.05it/s]\n"
          ]
        },
        {
          "output_type": "stream",
          "name": "stdout",
          "text": [
            "\n",
            "Test set: Average loss: 0.0291, Accuracy: 9911/10000 (99.11%)\n",
            "\n",
            "Epoch 12:\n"
          ]
        },
        {
          "output_type": "stream",
          "name": "stderr",
          "text": [
            "Loss=0.19293762743473053 Batch_id=937 Accuracy=97.93: 100%|██████████| 938/938 [01:31<00:00, 10.25it/s]\n"
          ]
        },
        {
          "output_type": "stream",
          "name": "stdout",
          "text": [
            "\n",
            "Test set: Average loss: 0.0296, Accuracy: 9917/10000 (99.17%)\n",
            "\n",
            "Epoch 13:\n"
          ]
        },
        {
          "output_type": "stream",
          "name": "stderr",
          "text": [
            "Loss=0.21784384548664093 Batch_id=937 Accuracy=98.03: 100%|██████████| 938/938 [01:28<00:00, 10.62it/s]\n"
          ]
        },
        {
          "output_type": "stream",
          "name": "stdout",
          "text": [
            "\n",
            "Test set: Average loss: 0.0365, Accuracy: 9895/10000 (98.95%)\n",
            "\n",
            "Epoch 14:\n"
          ]
        },
        {
          "output_type": "stream",
          "name": "stderr",
          "text": [
            "Loss=0.02312791720032692 Batch_id=937 Accuracy=98.18: 100%|██████████| 938/938 [01:30<00:00, 10.35it/s]\n"
          ]
        },
        {
          "output_type": "stream",
          "name": "stdout",
          "text": [
            "\n",
            "Test set: Average loss: 0.0245, Accuracy: 9927/10000 (99.27%)\n",
            "\n",
            "Epoch 15:\n"
          ]
        },
        {
          "output_type": "stream",
          "name": "stderr",
          "text": [
            "Loss=0.0068067521788179874 Batch_id=937 Accuracy=98.28: 100%|██████████| 938/938 [01:29<00:00, 10.47it/s]\n"
          ]
        },
        {
          "output_type": "stream",
          "name": "stdout",
          "text": [
            "\n",
            "Test set: Average loss: 0.0263, Accuracy: 9928/10000 (99.28%)\n",
            "\n",
            "Epoch 16:\n"
          ]
        },
        {
          "output_type": "stream",
          "name": "stderr",
          "text": [
            "Loss=0.016763651743531227 Batch_id=937 Accuracy=98.36: 100%|██████████| 938/938 [01:29<00:00, 10.47it/s]\n"
          ]
        },
        {
          "output_type": "stream",
          "name": "stdout",
          "text": [
            "\n",
            "Test set: Average loss: 0.0204, Accuracy: 9939/10000 (99.39%)\n",
            "\n",
            "Epoch 17:\n"
          ]
        },
        {
          "output_type": "stream",
          "name": "stderr",
          "text": [
            "Loss=0.06764395534992218 Batch_id=937 Accuracy=98.55: 100%|██████████| 938/938 [01:27<00:00, 10.67it/s]\n"
          ]
        },
        {
          "output_type": "stream",
          "name": "stdout",
          "text": [
            "\n",
            "Test set: Average loss: 0.0235, Accuracy: 9934/10000 (99.34%)\n",
            "\n",
            "Epoch 18:\n"
          ]
        },
        {
          "output_type": "stream",
          "name": "stderr",
          "text": [
            "Loss=0.01815970242023468 Batch_id=937 Accuracy=98.70: 100%|██████████| 938/938 [01:28<00:00, 10.58it/s]\n"
          ]
        },
        {
          "output_type": "stream",
          "name": "stdout",
          "text": [
            "\n",
            "Test set: Average loss: 0.0203, Accuracy: 9939/10000 (99.39%)\n",
            "\n",
            "Epoch 19:\n"
          ]
        },
        {
          "output_type": "stream",
          "name": "stderr",
          "text": [
            "Loss=0.01121598295867443 Batch_id=937 Accuracy=98.89: 100%|██████████| 938/938 [01:31<00:00, 10.30it/s]\n"
          ]
        },
        {
          "output_type": "stream",
          "name": "stdout",
          "text": [
            "\n",
            "Test set: Average loss: 0.0172, Accuracy: 9948/10000 (99.48%)\n",
            "\n",
            "Epoch 20:\n"
          ]
        },
        {
          "output_type": "stream",
          "name": "stderr",
          "text": [
            "Loss=0.037896666675806046 Batch_id=937 Accuracy=98.91: 100%|██████████| 938/938 [01:30<00:00, 10.39it/s]\n"
          ]
        },
        {
          "output_type": "stream",
          "name": "stdout",
          "text": [
            "\n",
            "Test set: Average loss: 0.0170, Accuracy: 9952/10000 (99.52%)\n",
            "\n"
          ]
        }
      ],
      "source": [
        "experiment_name='LayerNorm+L2'\n",
        "norm_type='LN'\n",
        "l1_factor=0\n",
        "l2_factor=0.001\n",
        "(exp_metrics[experiment_name]),model = helper.experiments(train_loader, test_loader,norm_type,l1_factor,l2_factor,dropout,EPOCH)\n",
        "torch.save(model, './models/{}.pt'.format(experiment_name))"
      ]
    },
    {
      "cell_type": "markdown",
      "metadata": {
        "id": "9XfskfA8s1OS"
      },
      "source": [
        "# Misclassified Images for Exp5"
      ]
    },
    {
      "cell_type": "code",
      "execution_count": 8,
      "metadata": {
        "colab": {
          "base_uri": "https://localhost:8080/",
          "height": 629
        },
        "id": "MpQs8BHbs0l-",
        "outputId": "5e97c95e-c025-4b57-9851-5e06e1232dea"
      },
      "outputs": [
        {
          "output_type": "stream",
          "name": "stdout",
          "text": [
            "Total wrong predictions are 48\n"
          ]
        },
        {
          "output_type": "display_data",
          "data": {
            "text/plain": [
              "<Figure size 576x720 with 10 Axes>"
            ],
            "image/png": "[encoded data removed]"
          },
          "metadata": {
            "needs_background": "light"
          }
        }
      ],
      "source": [
        "model = torch.load(f'./models/{experiment_name}.pt')\n",
        "model.eval()\n",
        "helper.wrong_predictions(test_loader,model,device)"
      ]
    },
    {
      "cell_type": "markdown",
      "metadata": {
        "id": "Fu-XflvIs9Ac"
      },
      "source": [
        "# BatchNorm with L1 and L2 regularization"
      ]
    },
    {
      "cell_type": "code",
      "execution_count": null,
      "metadata": {
        "colab": {
          "base_uri": "https://localhost:8080/"
        },
        "id": "ES_fXHGXs8ZQ",
        "outputId": "9eadc02e-35e7-4024-a91d-63ee4a636492"
      },
      "outputs": [
        {
          "output_type": "stream",
          "name": "stdout",
          "text": [
            "Epoch 1:\n"
          ]
        },
        {
          "output_type": "stream",
          "name": "stderr",
          "text": [
            "Loss=1.0233005285263062 Batch_id=937 Accuracy=77.33: 100%|██████████| 938/938 [01:34<00:00,  9.96it/s]\n"
          ]
        },
        {
          "output_type": "stream",
          "name": "stdout",
          "text": [
            "\n",
            "Test set: Average loss: 0.1114, Accuracy: 9763/10000 (97.63%)\n",
            "\n",
            "Epoch 2:\n"
          ]
        },
        {
          "output_type": "stream",
          "name": "stderr",
          "text": [
            "Loss=0.48971933126449585 Batch_id=937 Accuracy=94.46: 100%|██████████| 938/938 [01:33<00:00,  9.98it/s]\n"
          ]
        },
        {
          "output_type": "stream",
          "name": "stdout",
          "text": [
            "\n",
            "Test set: Average loss: 0.0648, Accuracy: 9807/10000 (98.07%)\n",
            "\n",
            "Epoch 3:\n"
          ]
        },
        {
          "output_type": "stream",
          "name": "stderr",
          "text": [
            "Loss=0.4622931480407715 Batch_id=937 Accuracy=95.21: 100%|██████████| 938/938 [01:35<00:00,  9.78it/s]\n"
          ]
        },
        {
          "output_type": "stream",
          "name": "stdout",
          "text": [
            "\n",
            "Test set: Average loss: 0.0763, Accuracy: 9764/10000 (97.64%)\n",
            "\n",
            "Epoch 4:\n"
          ]
        },
        {
          "output_type": "stream",
          "name": "stderr",
          "text": [
            "Loss=0.5543947219848633 Batch_id=937 Accuracy=95.25: 100%|██████████| 938/938 [01:35<00:00,  9.80it/s]\n"
          ]
        },
        {
          "output_type": "stream",
          "name": "stdout",
          "text": [
            "\n",
            "Test set: Average loss: 0.0714, Accuracy: 9790/10000 (97.90%)\n",
            "\n",
            "Epoch 5:\n"
          ]
        },
        {
          "output_type": "stream",
          "name": "stderr",
          "text": [
            "Loss=0.44755423069000244 Batch_id=937 Accuracy=95.49: 100%|██████████| 938/938 [01:34<00:00,  9.92it/s]\n"
          ]
        },
        {
          "output_type": "stream",
          "name": "stdout",
          "text": [
            "\n",
            "Test set: Average loss: 0.0525, Accuracy: 9849/10000 (98.49%)\n",
            "\n",
            "Epoch 6:\n"
          ]
        },
        {
          "output_type": "stream",
          "name": "stderr",
          "text": [
            "Loss=0.5006600022315979 Batch_id=937 Accuracy=95.30: 100%|██████████| 938/938 [01:34<00:00,  9.89it/s]\n"
          ]
        },
        {
          "output_type": "stream",
          "name": "stdout",
          "text": [
            "\n",
            "Test set: Average loss: 0.0609, Accuracy: 9827/10000 (98.27%)\n",
            "\n",
            "Epoch 7:\n"
          ]
        },
        {
          "output_type": "stream",
          "name": "stderr",
          "text": [
            "Loss=0.45518213510513306 Batch_id=937 Accuracy=95.39: 100%|██████████| 938/938 [01:32<00:00, 10.14it/s]\n"
          ]
        },
        {
          "output_type": "stream",
          "name": "stdout",
          "text": [
            "\n",
            "Test set: Average loss: 0.0608, Accuracy: 9832/10000 (98.32%)\n",
            "\n",
            "Epoch 8:\n"
          ]
        },
        {
          "output_type": "stream",
          "name": "stderr",
          "text": [
            "Loss=0.48001545667648315 Batch_id=937 Accuracy=95.50: 100%|██████████| 938/938 [01:30<00:00, 10.32it/s]\n"
          ]
        },
        {
          "output_type": "stream",
          "name": "stdout",
          "text": [
            "\n",
            "Test set: Average loss: 0.1523, Accuracy: 9540/10000 (95.40%)\n",
            "\n",
            "Epoch 9:\n"
          ]
        },
        {
          "output_type": "stream",
          "name": "stderr",
          "text": [
            "Loss=0.40933459997177124 Batch_id=259 Accuracy=95.64:  28%|██▊       | 259/938 [00:25<01:09,  9.81it/s]"
          ]
        }
      ],
      "source": [
        "experiment_name='BatchNorm+L1+L2'\n",
        "norm_type='BN'\n",
        "l1_factor=0.001\n",
        "l2_factor=0.001\n",
        "(exp_metrics[experiment_name]),model = helper.experiments(train_loader, test_loader,norm_type,l1_factor,l2_factor,dropout,EPOCH)\n",
        "torch.save(model, './models/{}.pt'.format(experiment_name))"
      ]
    },
    {
      "cell_type": "markdown",
      "metadata": {
        "id": "0r-rd9WatB5Y"
      },
      "source": [
        "# Misclassified Images for Exp6"
      ]
    },
    {
      "cell_type": "code",
      "execution_count": null,
      "metadata": {
        "id": "XxrV1x51tC-D"
      },
      "outputs": [],
      "source": [
        "model = torch.load(f'./models/{experiment_name}.pt')\n",
        "model.eval()\n",
        "helper.wrong_predictions(test_loader,model,device)"
      ]
    },
    {
      "cell_type": "markdown",
      "metadata": {
        "id": "cbjZo5SytOJu"
      },
      "source": [
        "# BatchNorm with no regularization"
      ]
    },
    {
      "cell_type": "code",
      "execution_count": null,
      "metadata": {
        "id": "gTzye-GJtP5t"
      },
      "outputs": [],
      "source": [
        "experiment_name='BatchNorm'\n",
        "norm_type='BN'\n",
        "l1_factor=0\n",
        "l2_factor=0\n",
        "(exp_metrics[experiment_name]),model = helper.experiments(train_loader, test_loader,norm_type,l1_factor,l2_factor,dropout,EPOCH)\n",
        "torch.save(model, './models/{}.pt'.format(experiment_name))"
      ]
    },
    {
      "cell_type": "markdown",
      "metadata": {
        "id": "4RErT1zutUh_"
      },
      "source": [
        "# Misclassified Images for Exp7"
      ]
    },
    {
      "cell_type": "code",
      "execution_count": null,
      "metadata": {
        "id": "MANfa9jTtVxr"
      },
      "outputs": [],
      "source": [
        "model = torch.load(f'./models/{experiment_name}.pt')\n",
        "model.eval()\n",
        "helper.wrong_predictions(test_loader,model,device)"
      ]
    },
    {
      "cell_type": "markdown",
      "metadata": {
        "id": "cvm7mjgGth8X"
      },
      "source": [
        "# Plot Metrics for all Experiments"
      ]
    },
    {
      "cell_type": "code",
      "execution_count": null,
      "metadata": {
        "id": "JpxoHev_tjAT"
      },
      "outputs": [],
      "source": [
        "plot_metrics.plot_metrics(exp_metrics)"
      ]
    }
  ],
  "metadata": {
    "accelerator": "GPU",
    "colab": {
      "provenance": [],
      "authorship_tag": "ABX9TyNv+5bMkrGtlaAtFa+Nsv97",
      "include_colab_link": true
    },
    "gpuClass": "standard",
    "kernelspec": {
      "display_name": "Python 3",
      "name": "python3"
    },
    "language_info": {
      "name": "python"
    }
  },
  "nbformat": 4,
  "nbformat_minor": 0
}